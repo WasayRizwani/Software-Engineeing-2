{
 "cells": [
  {
   "cell_type": "markdown",
   "id": "7d56cf2d",
   "metadata": {},
   "source": [
    "# List and Dictionaries "
   ]
  },
  {
   "cell_type": "markdown",
   "id": "8ee67570",
   "metadata": {},
   "source": [
    "# Part A "
   ]
  },
  {
   "cell_type": "code",
   "execution_count": 1,
   "id": "70f304ac",
   "metadata": {},
   "outputs": [
    {
     "name": "stdout",
     "output_type": "stream",
     "text": [
      "Enter the number of Car Bookings \n",
      "3\n",
      "\n",
      "      Booking   0\n",
      "Enter the Start day \n",
      "1\n",
      "Enter the End day \n",
      "10\n",
      "\n",
      "      Booking   1\n",
      "Enter the Start day \n",
      "5\n",
      "Enter the End day \n",
      "10\n",
      "\n",
      "      Booking   2\n",
      "Enter the Start day \n",
      "11\n",
      "Enter the End day \n",
      "20\n",
      "[[1, 10], [5, 10], [11, 20]]\n",
      "Number of Cars needed are  2\n"
     ]
    }
   ],
   "source": [
    "TimeArray=[]\n",
    "\n",
    "\n",
    "print (\"Enter the number of Car Bookings \")\n",
    "number=int(input())\n",
    "for i in range (number):\n",
    "    appendArray=[]\n",
    "    print (\"\\n      Booking  \",i)\n",
    "    print(\"Enter the Start day \")\n",
    "    ip=int(input())\n",
    "    appendArray.append(ip)\n",
    "    print(\"Enter the End day \")\n",
    "    ip=int(input())\n",
    "    appendArray.append(ip)\n",
    "    TimeArray.append(appendArray)\n",
    "print (TimeArray)\n",
    "\n",
    "# TimeArray=[[1,10], [5, 10],[11,20]]\n",
    "TimeArray.sort(key=lambda x: x[0])\n",
    "def CheckOverlap (array1,array2):\n",
    "    if ((array1[0]< array2[1] and array1[1]>array2[0] ) or (array2[0]< array1[1] and array2[1]>array1[0])):\n",
    "        return True\n",
    "    else:\n",
    "        return False\n",
    "\n",
    "CarCount=1;\n",
    "for i in range (len(TimeArray)-1):\n",
    "    if (CheckOverlap(TimeArray[i],TimeArray[i+1])):\n",
    "        CarCount=CarCount+1\n",
    "        \n",
    "            \n",
    "print(\"Number of Cars needed are \",CarCount)\n"
   ]
  },
  {
   "cell_type": "markdown",
   "id": "8abe1ed3",
   "metadata": {},
   "source": [
    "#### "
   ]
  },
  {
   "cell_type": "markdown",
   "id": "110fc068",
   "metadata": {},
   "source": [
    "# Part 2"
   ]
  },
  {
   "cell_type": "code",
   "execution_count": 2,
   "id": "81221f3a",
   "metadata": {},
   "outputs": [
    {
     "name": "stdout",
     "output_type": "stream",
     "text": [
      "[2, 4]\n"
     ]
    },
    {
     "data": {
      "text/plain": [
       "[2, 4]"
      ]
     },
     "execution_count": 2,
     "metadata": {},
     "output_type": "execute_result"
    }
   ],
   "source": [
    "lis = [2,2,4,2,4,5,6, 1,1]\n",
    "\n",
    "def most_frequent_elements_in_lis(elem_list, left, right, frequency):\n",
    "    dictionary ={}\n",
    "    AnsArray=[]\n",
    "    for i in range (left ,right+1):\n",
    "        if elem_list[i] not in dictionary:\n",
    "            dictionary [elem_list[i]]=0\n",
    "        dictionary[elem_list[i]]=dictionary[elem_list[i]]+1\n",
    "        if dictionary [elem_list[i]]==frequency:         \n",
    "            AnsArray.append(elem_list[i])\n",
    "    print (AnsArray)\n",
    "    return AnsArray\n",
    "most_frequent_elements_in_lis(lis,0,5,2)    \n",
    "    "
   ]
  },
  {
   "cell_type": "markdown",
   "id": "cd682e0f",
   "metadata": {},
   "source": [
    "# Part 3 "
   ]
  },
  {
   "cell_type": "code",
   "execution_count": 3,
   "id": "eff72be7",
   "metadata": {
    "scrolled": true
   },
   "outputs": [
    {
     "name": "stdout",
     "output_type": "stream",
     "text": [
      "{'p18-1001': {'english': 61.5, 'calculus': 38.5}, 'p18-1002': {'english': 38.5, 'programming fundaments': 38.5}, 'p18-1003': {'calculus': 36.9, 'programming fundamentals': 38.5}}\n",
      "Obtained Grade for 65 marks is  C\n"
     ]
    }
   ],
   "source": [
    "StudentData=[{'roll_no': 'p18-1001', 'marks': {\n",
    "'english': (1.4, 2.5, 15, 9.6, 33),\n",
    "'calculus': (2.4, 1.5, 12, 1.6, 21),\n",
    "}, 'attendance': 88.4\n",
    "},\n",
    "{'roll_no': 'p18-1002', 'marks': {\n",
    "'english': (2.4, 1.5, 12, 1.6, 21),\n",
    "'programming fundaments': (2.4, 1.5, 12, 1.6, 21),\n",
    "}, 'attendance': 79.4\n",
    "},\n",
    "{'roll_no': 'p18-1003', 'marks': {\n",
    "'calculus': (2.4, 1.5, 12, None, 21),\n",
    "'programming fundamentals': (2.4, 1.5, 12, 1.6, 21),\n",
    "}, 'attendance': 79.4}]\n",
    "\n",
    "def get_student_marks(StudentData):\n",
    "    StudentsMarks={}\n",
    "    for data in StudentData:\n",
    "        StudentRecord={}\n",
    "        for courses,marks in data['marks'].items():\n",
    "            filtered=filter (None,marks)\n",
    "            StudentRecord[courses]=sum(list(filtered))\n",
    "        StudentsMarks[data['roll_no']]=StudentRecord\n",
    "    print (StudentsMarks)\n",
    "\n",
    "\n",
    "get_student_marks(StudentData)\n",
    "gradeCondition={'A': 80, 'B': 70, 'C': 60, 'D': 50}\n",
    "def get_Grade(ObtainedMarks ,gradingScheme ):\n",
    "    for grade,marks in gradingScheme.items():\n",
    "        if ObtainedMarks>marks:\n",
    "            return grade\n",
    "    return 'F'\n",
    "\n",
    "print('Obtained Grade for 65 marks is ',get_Grade(65,gradeCondition)) "
   ]
  },
  {
   "cell_type": "markdown",
   "id": "c1a7497f",
   "metadata": {},
   "source": [
    "# 2) Numpy Matrix"
   ]
  },
  {
   "cell_type": "markdown",
   "id": "d45982d4",
   "metadata": {},
   "source": [
    "# Part A (i)"
   ]
  },
  {
   "cell_type": "code",
   "execution_count": 4,
   "id": "0a321e3e",
   "metadata": {},
   "outputs": [
    {
     "name": "stdout",
     "output_type": "stream",
     "text": [
      "[[7 1 3 7 1 2 2]\n",
      " [1 5 6 9 8 3 5]\n",
      " [9 1 6 8 2 4 7]\n",
      " [5 1 4 9 9 5 7]\n",
      " [4 7 1 7 2 2 3]\n",
      " [8 8 3 3 9 3 3]\n",
      " [5 5 3 2 8 2 5]]\n",
      "Second Maximum sum is  37\n"
     ]
    }
   ],
   "source": [
    "import numpy as np\n",
    "array=np.random.randint(1,10,size=(7,7))\n",
    "print(array)\n",
    "def second_Max_RowSum(mat):\n",
    "    maximum=0\n",
    "    SecondMax=0\n",
    "    for i in range (len(mat)):\n",
    "        value=sum(array[i])\n",
    "        if (value>maximum):\n",
    "            SecondMax=maximum\n",
    "            maximum=value\n",
    "    return SecondMax\n",
    "print(\"Second Maximum sum is \",second_Max_RowSum(array))\n"
   ]
  },
  {
   "cell_type": "markdown",
   "id": "c97af968",
   "metadata": {},
   "source": [
    "# Part (ii) "
   ]
  },
  {
   "cell_type": "code",
   "execution_count": 5,
   "id": "a3e8c1ff",
   "metadata": {},
   "outputs": [
    {
     "name": "stdout",
     "output_type": "stream",
     "text": [
      "[[7 1 3 7 1 2 2]\n",
      " [1 5 6 9 8 3 5]\n",
      " [9 1 6 8 2 4 7]\n",
      " [5 1 4 9 9 5 7]\n",
      " [4 7 1 7 2 2 3]\n",
      " [8 8 3 3 9 3 3]\n",
      " [5 5 3 2 8 2 5]]\n"
     ]
    },
    {
     "data": {
      "text/plain": [
       "False"
      ]
     },
     "execution_count": 5,
     "metadata": {},
     "output_type": "execute_result"
    }
   ],
   "source": [
    "print (array)\n",
    "def CheckTriangularMatrix(matrix):\n",
    "    return (np.allclose(matrix,np.triu(matrix)) or np.allclose(matrix,np.tril(matrix))) and np.allclose(matrix, np.diag(np.diag(matrix))) \n",
    "CheckTriangularMatrix(array)\n",
    "    \n",
    "    \n",
    "    \n",
    "    \n",
    "    \n",
    "    \n",
    "    \n",
    "    \n",
    "    \n",
    "    \n",
    "    \n",
    "    "
   ]
  },
  {
   "cell_type": "markdown",
   "id": "97ada270",
   "metadata": {},
   "source": [
    "# Part (iii)"
   ]
  },
  {
   "cell_type": "code",
   "execution_count": 6,
   "id": "75eb4b4c",
   "metadata": {
    "scrolled": true
   },
   "outputs": [
    {
     "name": "stdout",
     "output_type": "stream",
     "text": [
      "[[7 1 3 7 1 2 2]\n",
      " [1 5 6 9 8 3 5]\n",
      " [9 1 6 8 2 4 7]\n",
      " [5 1 4 9 9 5 7]\n",
      " [4 7 1 7 2 2 3]\n",
      " [8 8 3 3 9 3 3]\n",
      " [5 5 3 2 8 2 5]]\n",
      "Minimum Sum Row is  [7 1 3 7 1 2 2]\n"
     ]
    }
   ],
   "source": [
    "print(array)\n",
    "def Minimum_Sum_Array(matrix):\n",
    "    minimum=100\n",
    "    index=-1\n",
    "    for i in range(len(matrix)):\n",
    "        value=np.sum(matrix[i])\n",
    "        if value<minimum:\n",
    "            minimum=value\n",
    "            index=i\n",
    "    return matrix[index]\n",
    "\n",
    "print ('Minimum Sum Row is ',Minimum_Sum_Array(array))"
   ]
  },
  {
   "cell_type": "markdown",
   "id": "7d8d2886",
   "metadata": {},
   "source": [
    "# Part (iv)"
   ]
  },
  {
   "cell_type": "code",
   "execution_count": 7,
   "id": "8e612851",
   "metadata": {},
   "outputs": [
    {
     "name": "stdout",
     "output_type": "stream",
     "text": [
      "[[7 1 3 7 1 2 2]\n",
      " [1 5 6 9 8 3 5]\n",
      " [9 1 6 8 2 4 7]\n",
      " [5 1 4 9 9 5 7]\n",
      " [4 7 1 7 2 2 3]\n",
      " [8 8 3 3 9 3 3]\n",
      " [5 5 3 2 8 2 5]]\n",
      "Swapped matrix\n",
      "[[9 1 6 8 2 4 7]\n",
      " [1 5 6 9 8 3 5]\n",
      " [7 1 3 7 1 2 2]\n",
      " [5 1 4 9 9 5 7]\n",
      " [5 5 3 2 8 2 5]\n",
      " [8 8 3 3 9 3 3]\n",
      " [4 7 1 7 2 2 3]]\n"
     ]
    },
    {
     "data": {
      "text/plain": [
       "array([[9, 1, 6, 8, 2, 4, 7],\n",
       "       [1, 5, 6, 9, 8, 3, 5],\n",
       "       [7, 1, 3, 7, 1, 2, 2],\n",
       "       [5, 1, 4, 9, 9, 5, 7],\n",
       "       [5, 5, 3, 2, 8, 2, 5],\n",
       "       [8, 8, 3, 3, 9, 3, 3],\n",
       "       [4, 7, 1, 7, 2, 2, 3]])"
      ]
     },
     "execution_count": 7,
     "metadata": {},
     "output_type": "execute_result"
    }
   ],
   "source": [
    "def SwapRows(matrix):\n",
    "    for i in range(0,len(matrix)-2,4):\n",
    "        save=np.copy(matrix[i+2])\n",
    "        matrix[i+2],matrix[i]=matrix[i],save\n",
    "          \n",
    "\n",
    "    print(matrix)\n",
    "    return matrix\n",
    "\n",
    "print (array)\n",
    "\n",
    "print ('Swapped matrix')\n",
    "\n",
    "SwapRows(array)"
   ]
  },
  {
   "cell_type": "markdown",
   "id": "7f347689",
   "metadata": {},
   "source": [
    "# Part (v)"
   ]
  },
  {
   "cell_type": "code",
   "execution_count": 8,
   "id": "38333325",
   "metadata": {},
   "outputs": [
    {
     "data": {
      "text/plain": [
       "array([5.28571429, 5.28571429, 3.28571429, 5.71428571, 4.28571429,\n",
       "       5.28571429, 3.71428571])"
      ]
     },
     "execution_count": 8,
     "metadata": {},
     "output_type": "execute_result"
    }
   ],
   "source": [
    "def CalculateMean(array):\n",
    "    return np.mean(array,axis=1)\n",
    "CalculateMean(array)"
   ]
  },
  {
   "cell_type": "markdown",
   "id": "1e5316fd",
   "metadata": {},
   "source": [
    "# Part (vi)"
   ]
  },
  {
   "cell_type": "code",
   "execution_count": 9,
   "id": "acf3d0b6",
   "metadata": {},
   "outputs": [
    {
     "name": "stdout",
     "output_type": "stream",
     "text": [
      "Old Array  [[9 1 6 8 2 4 7]\n",
      " [1 5 6 9 8 3 5]\n",
      " [7 1 3 7 1 2 2]\n",
      " [5 1 4 9 9 5 7]\n",
      " [5 5 3 2 8 2 5]\n",
      " [8 8 3 3 9 3 3]\n",
      " [4 7 1 7 2 2 3]]\n",
      "New Array  [[1 1 1 2 1 2 2]\n",
      " [4 1 3 3 2 2 3]\n",
      " [5 1 3 7 2 2 3]\n",
      " [5 5 3 7 8 3 5]\n",
      " [7 5 4 8 8 3 5]\n",
      " [8 7 6 9 9 4 7]\n",
      " [9 8 6 9 9 5 7]]\n"
     ]
    }
   ],
   "source": [
    "print('Old Array ',array)\n",
    "def SortColumns(matrix):\n",
    "    matrix.sort(axis=0)\n",
    "    return matrix\n",
    "\n",
    "print('New Array ',SortColumns(array))"
   ]
  },
  {
   "cell_type": "markdown",
   "id": "0d72f6a9",
   "metadata": {},
   "source": [
    "# Q2 Part B"
   ]
  },
  {
   "cell_type": "code",
   "execution_count": 10,
   "id": "388ab5ea",
   "metadata": {},
   "outputs": [
    {
     "name": "stdout",
     "output_type": "stream",
     "text": [
      "YES\n",
      "NO\n"
     ]
    }
   ],
   "source": [
    "def CreateString(matrix,string1):    \n",
    "    row=0\n",
    "    for character in string1:\n",
    "        check=matrix[row].count(character)\n",
    "        if check:\n",
    "            matrix[row].remove(character)\n",
    "        else:\n",
    "            return \"NO\"\n",
    "        row=(row+1)%len(matrix)\n",
    "    return \"YES\"    \n",
    "array=[['w','g','a'],['s','a','y'],['d','s','f']] \n",
    "print(CreateString(array,\"wasay\"))\n",
    "array=[['w','g','a'],['h','h','y'],['d','s','f']] \n",
    "print(CreateString(array,\"wasay\"))        \n",
    "        "
   ]
  },
  {
   "cell_type": "markdown",
   "id": "f92d4fdc",
   "metadata": {},
   "source": [
    "# Part C "
   ]
  },
  {
   "cell_type": "code",
   "execution_count": 11,
   "id": "1371473b",
   "metadata": {},
   "outputs": [
    {
     "name": "stdout",
     "output_type": "stream",
     "text": [
      "19\n"
     ]
    }
   ],
   "source": [
    "def MaximumSum(matrix):\n",
    "    Maximum=-1\n",
    "    for i in range(len(matrix)-2):\n",
    "        for j in range(len(matrix[i])-2):\n",
    "            ad=matrix[i][j]+matrix[i][j+1]+matrix[i][j+2]+matrix[i+1][j+1]+matrix[i+2][j]+matrix[i+2][j+1]+matrix[i+2][j+2]\n",
    "            if ad>Maximum:\n",
    "                Maximum=ad\n",
    "    return Maximum\n",
    "\n",
    "\n",
    "matrix=[[1,1,1,0,0,0],[0,1,0,0,0,0],[1,1,1,0,0,0],[0,0,2,4,4,0],[0,0,0,2,0,0],[0,0,1,2,4,0]]\n",
    "print(MaximumSum(matrix))"
   ]
  },
  {
   "cell_type": "markdown",
   "id": "23070e44",
   "metadata": {},
   "source": [
    "# Part D"
   ]
  },
  {
   "cell_type": "markdown",
   "id": "63b1c1a1",
   "metadata": {},
   "source": [
    "# Part i "
   ]
  },
  {
   "cell_type": "code",
   "execution_count": 12,
   "id": "7b097c64",
   "metadata": {},
   "outputs": [
    {
     "name": "stdout",
     "output_type": "stream",
     "text": [
      "[ 0 -1  2 -1  4 -1  6 -1  8 -1]\n"
     ]
    }
   ],
   "source": [
    "import numpy as np\n",
    "def ReplaceOdd(array):\n",
    "    array[1::2]=-1\n",
    "    return array\n",
    "array=np.array([0,1,2,3,4,5,6,7,8,9])\n",
    "copyArray=np.copy(array)\n",
    "print(ReplaceOdd(copyArray))"
   ]
  },
  {
   "cell_type": "markdown",
   "id": "8859d01e",
   "metadata": {},
   "source": [
    "# Part ii"
   ]
  },
  {
   "cell_type": "code",
   "execution_count": 13,
   "id": "0390e748",
   "metadata": {},
   "outputs": [
    {
     "name": "stdout",
     "output_type": "stream",
     "text": [
      "(array([ 3,  9, 12, 19], dtype=int64),)\n"
     ]
    }
   ],
   "source": [
    "import numpy as np \n",
    "def GetInRange(array,small,big):\n",
    "    return np.where(np.logical_and(array> small, array< big))\n",
    "\n",
    "array=np.random.randint(1,17,20)\n",
    "print(GetInRange(array,5,10))"
   ]
  },
  {
   "cell_type": "markdown",
   "id": "7273fb95",
   "metadata": {},
   "source": [
    "# 3) String Manipulations "
   ]
  },
  {
   "cell_type": "markdown",
   "id": "30b86f5d",
   "metadata": {},
   "source": [
    "# Part A"
   ]
  },
  {
   "cell_type": "code",
   "execution_count": 14,
   "id": "c0ae0e29",
   "metadata": {},
   "outputs": [
    {
     "name": "stdout",
     "output_type": "stream",
     "text": [
      "False\n",
      "True\n"
     ]
    }
   ],
   "source": [
    "def CheckAnagram(string1,string2):\n",
    "    if len(string1)==len(string2):\n",
    "        if string1== string2[::-1]:\n",
    "            return True\n",
    "        else:\n",
    "            return False\n",
    "    else:\n",
    "        return False\n",
    "    \n",
    "print(CheckAnagram('acc','cba'))\n",
    "print(CheckAnagram('abc','cba'))"
   ]
  },
  {
   "cell_type": "markdown",
   "id": "cd1cfcb1",
   "metadata": {},
   "source": [
    "# Part B"
   ]
  },
  {
   "cell_type": "code",
   "execution_count": 15,
   "id": "b996073c",
   "metadata": {},
   "outputs": [
    {
     "name": "stdout",
     "output_type": "stream",
     "text": [
      "True\n",
      "True\n"
     ]
    }
   ],
   "source": [
    "\n",
    "def CheckRotation(string1,string2):\n",
    "    if len(string1)==len(string2):\n",
    "        if (string1[-1]+string1[:-1])== string2:\n",
    "            return True\n",
    "        else:\n",
    "            return False\n",
    "    else:\n",
    "        return False\n",
    "print(CheckRotation('xyz','zxy'))\n",
    "print(CheckRotation('xyz','zxy'))"
   ]
  },
  {
   "cell_type": "markdown",
   "id": "2a2e7e73",
   "metadata": {},
   "source": [
    "# Part C"
   ]
  },
  {
   "cell_type": "code",
   "execution_count": 16,
   "id": "1b3d0e93",
   "metadata": {},
   "outputs": [
    {
     "name": "stdout",
     "output_type": "stream",
     "text": [
      "False\n"
     ]
    }
   ],
   "source": [
    "def CheckSuperString(string1):\n",
    "    CountArray={i:string1.count(i) for i in set(string1)}\n",
    "    for i in set(string1):\n",
    "        if CountArray[i] != (90-ord(i)+1):\n",
    "            return False\n",
    "    return True\n",
    "print(CheckSuperString('ZZYY'))   "
   ]
  },
  {
   "cell_type": "markdown",
   "id": "11423939",
   "metadata": {},
   "source": [
    "# Part D "
   ]
  },
  {
   "cell_type": "code",
   "execution_count": 17,
   "id": "ac70ba79",
   "metadata": {},
   "outputs": [
    {
     "name": "stdout",
     "output_type": "stream",
     "text": [
      "['a', 'b', 'abba', 'bb']\n",
      "['a', 'd', 'aa', 's']\n"
     ]
    },
    {
     "data": {
      "text/plain": [
       "['a', 'd', 'aa', 's']"
      ]
     },
     "execution_count": 17,
     "metadata": {},
     "output_type": "execute_result"
    }
   ],
   "source": [
    "def FindPalindromes(string1):\n",
    "    substrings=[string1[i:j+1] for i in range (len (string1))for j in range(i,len(string1)) ]\n",
    "    palindromes=[]\n",
    "    for x in list(set(substrings)):\n",
    "        if x == x[::-1]:\n",
    "            palindromes.append(x)\n",
    "    print(palindromes)\n",
    "    return palindromes\n",
    "FindPalindromes('abba')\n",
    "FindPalindromes('saad')"
   ]
  },
  {
   "cell_type": "markdown",
   "id": "6a5337ba",
   "metadata": {},
   "source": [
    "# Question 4 "
   ]
  },
  {
   "cell_type": "code",
   "execution_count": null,
   "id": "b4b162c7",
   "metadata": {},
   "outputs": [
    {
     "name": "stdout",
     "output_type": "stream",
     "text": [
      "1 to  play with 3 players(info already added only for easy testing and checking ) ,2 to play for N Players\n"
     ]
    }
   ],
   "source": [
    "## import random\n",
    "\n",
    "class Card:\n",
    "    action =\"\"\n",
    "    def __init__(self,Type=\"\",value=0):\n",
    "        self.Type=Type\n",
    "        self.value=value\n",
    "    def getCardInfo(self):\n",
    "        return self.Type,self.value\n",
    "    def CardPlayable(self,LastPlayedCard):\n",
    "        if self.Type==LastPlayedCard.Type:\n",
    "            if LastPlayedCard.value==4:\n",
    "                return False\n",
    "            return True\n",
    "        elif self.value== LastPlayedCard.value:\n",
    "            return True\n",
    "    def getType(self):\n",
    "        return self.Type\n",
    "    def getValue(self):\n",
    "        return self.value\n",
    "\n",
    "class Deck:\n",
    "    Cards=[]\n",
    "    def __init__(self):\n",
    "        self.CompleteDeck()\n",
    "    def CompleteDeck(self):\n",
    "        for j in range (4):\n",
    "            for i in range(13):\n",
    "                if j==0: \n",
    "                    self.Cards.append(Card('Spades',i+1))\n",
    "                if j==1:\n",
    "                    self.Cards.append(Card('Hearts',i+1))\n",
    "                if j==2:\n",
    "                    self.Cards.append(Card('Diamonds',i+1))\n",
    "                if j==3:\n",
    "                    self.Cards.append(Card('Clubs',i+1))\n",
    "                \n",
    "        \n",
    "    def ShuffleCards(self):\n",
    "        random.shuffle(self.Cards)\n",
    "    \n",
    "    def PrintDeck(self):\n",
    "        for card in self.Cards:\n",
    "            print(card.getCardInfo())\n",
    "    \n",
    "    def GiveOneCard(self):\n",
    "        if len(self.Cards)==0:\n",
    "            self.CompleteDeck()\n",
    "        self.ShuffleCards()\n",
    "        return self.Cards.pop()\n",
    "    \n",
    "    def CutDeck(self):\n",
    "        return self.Cards.pop(random.randrange(0,len(self.Cards)))\n",
    "\n",
    "\n",
    "class Player:\n",
    "   \n",
    "    def __init__(self, name , age ):\n",
    "        self.PlayerCard={}\n",
    "        self.PlayerCard['Diamonds']=[]\n",
    "        self.PlayerCard['Spades']=[]\n",
    "        self.PlayerCard['Hearts']=[]\n",
    "        self.PlayerCard['Clubs']=[]\n",
    "        self.name=name\n",
    "        self.age=age\n",
    "    def getPlayerInfo(self):\n",
    "        return self.name,self.age\n",
    "    def TakeCardFromDeck(self,Deck):\n",
    "        newcard=Deck.GiveOneCard()\n",
    "        Type,value=newcard.getCardInfo()\n",
    "        self.PlayerCard[Type].append(value)\n",
    "        return Deck\n",
    "    def ShowCards(self):\n",
    "        print (\"\\n{} Cards \\n\".format(self.name))\n",
    "        for Type,value in self.PlayerCard.items():\n",
    "            print (\"{} : \".format(Type))\n",
    "            if len(value)==0:\n",
    "                print(\"None \",end=\" \")\n",
    "            for val in value:\n",
    "                if val==11:\n",
    "                    print('J',end=\"  \")\n",
    "                elif val ==12:\n",
    "                    print ('Q',end=\"  \")\n",
    "                elif val ==13:\n",
    "                    print ('K',end=\"  \")\n",
    "                else:\n",
    "                    print (val,end=\"  \")\n",
    "            print('')   \n",
    "    def RemoveCard(self,card):\n",
    "        self.PlayerCard[card.Type].remove(card.value)\n",
    "\n",
    "class Game:\n",
    "    Players=[]\n",
    "    lastCardPlayed=Card()\n",
    "    CardstoHit=0\n",
    "    CallCard=0\n",
    "    KingSpades=0\n",
    "    KingHearts=0\n",
    "    def __init__(self,totalPlayers):\n",
    "        self.deck=Deck()\n",
    "        self.TotalPlayers=totalPlayers\n",
    "    def addPlayers(self,player):\n",
    "        self.Players.append(player)\n",
    "    def DisplayPlayers(self):\n",
    "        for player in self.Players:\n",
    "            print(player.getPlayerInfo())\n",
    "            \n",
    "    def GiveCards(self):\n",
    "        for player in self.Players:\n",
    "            for i in range (5):\n",
    "                self.deck=player.TakeCardFromDeck(self.deck)\n",
    "    def CutDeck(self):\n",
    "        self.lastCardPlayed=self.deck.CutDeck()\n",
    "        return self.lastCardPlayed\n",
    "    def getPlayers(self):\n",
    "        return self.Players\n",
    "    def PlayGame(self):\n",
    "        Player_Index=0\n",
    "        print(\"Starting Card  : \",self.CutDeck().getCardInfo())\n",
    "        while (1):\n",
    "            self.Players[Player_Index].ShowCards()\n",
    "            print ('Do you want to play Card ? 1 for Yes , any other number for NO ')\n",
    "            choice= int(input())\n",
    "            if choice==1:      \n",
    "                print(\"Enter the Card Type to Play  :  \")\n",
    "                Type=str(input())\n",
    "                print(\"Enter the Value of Card to Play (11 for 'J' , 12 for 'Q' and 13 for 'K' )\")\n",
    "                value =int (input())\n",
    "                CardToBePlayed=Card(Type,value)\n",
    "                if self.CallCard==1 and value!= 11:\n",
    "                    Player_Index=(Player_Index+1)% len(self.Players)  \n",
    "                    print( \"\\n ****** LAST CARD PLAYED is  \",self.lastCardPlayed.getCardInfo())\n",
    "                else: \n",
    "                    self.CallCard==0\n",
    "                    \n",
    "                if CardToBePlayed.CardPlayable(self.lastCardPlayed)==True:\n",
    "                    self.Players[Player_Index].RemoveCard(CardToBePlayed)\n",
    "                    self.lastCardPlayed=CardToBePlayed          \n",
    "                    if value==2 :\n",
    "                        self.CardstoHit=self.CardstoHit+2\n",
    "                    if value==3 :\n",
    "                        self.CardstoHit=self.CardstoHit+3 \n",
    "                    if Type==\"Hearts\" and value==13:\n",
    "                        self.KingHearts=1\n",
    "                        self.CardstoHit=5\n",
    "                        Player_Index=(Player_Index+1)% len(self.Players)\n",
    "                        continue\n",
    "                        \n",
    "                        \n",
    "                    if Type==\"Spades\" and value==13:\n",
    "                        self.KingSpades=1\n",
    "                        self.CardstoHit=5\n",
    "                        if Player_Index>1:\n",
    "                            Player_Index=(Player_Index-1)% len(self.Players)\n",
    "                        else:\n",
    "                            Player_Index=len(self.Players)-1\n",
    "                        continue\n",
    "                        \n",
    "                    if value==11:\n",
    "                        print('Do you want to call a Card? 1 for Yes and any other key for No ')\n",
    "                        choice2=int(input())\n",
    "                        if choice2==1:\n",
    "                            value==0\n",
    "                            while value!=2 or value!=3 or value !=4:\n",
    "                                print(\"Enter the Card Type to Call  :  \")\n",
    "                                Type=str(input())\n",
    "                                print(\"Enter the Non Action Card  Value to Call (11 for 'J' , 12 for 'Q' and 13 for 'K' )\")\n",
    "                                value =int (input())\n",
    "                                CardToBePlayed=Card(Type,value)\n",
    "                            self.lastCardPlayed=CardToBePlayed\n",
    "                        else:\n",
    "                            self.CallCard=1\n",
    "                        \n",
    "                else:\n",
    "                    if (self.CardstoHit==0):\n",
    "                        self.Players[Player_Index].TakeCardFromDeck(self.deck)\n",
    "                        self.Players[Player_Index].TakeCardFromDeck(self.deck)\n",
    "                    else:\n",
    "                        while self.CardstoHit!=0:\n",
    "                            self.Players[Player_Index].TakeCardFromDeck(self.deck)\n",
    "                            self.CardstoHit=self.CardstoHit-1 \n",
    "                            self.KingSpades=0\n",
    "                            self.KingHearts=0\n",
    "            else:\n",
    "                if (self.CardstoHit==0):\n",
    "                    if (self.lastCardPlayed.getValue()!=4):\n",
    "                        print('Taking One Card From Deck ')\n",
    "                        self.Players[Player_Index].TakeCardFromDeck(self.deck)                \n",
    "                else:\n",
    "                    while self.CardstoHit!=0:\n",
    "                        self.Players[Player_Index].TakeCardFromDeck(self.deck)\n",
    "                        self.CardstoHit=self.CardstoHit-1\n",
    "                        self.KingSpades=0\n",
    "                        self.KingHearts=0\n",
    "            \n",
    "            Player_Index=(Player_Index+1)% len(self.Players)  \n",
    "            \n",
    "            print( \"\\n ****** LAST CARD PLAYED is  \",self.lastCardPlayed.getCardInfo())\n",
    "            \n",
    "            \n",
    "            \n",
    "            \n",
    "            \n",
    "            \n",
    "    \n",
    "NumberOfPlayers=3\n",
    "game = Game(NumberOfPlayers)\n",
    "\n",
    "print (\"1 to  play with 3 players(info already added only for easy testing and checking ) ,2 to play for N Players\")\n",
    "choice=int(input())\n",
    "if choice==2:\n",
    "    print(\"Enter Number of Players : \")\n",
    "    NumberOfPlayers=int(input())\n",
    "    for i in range (NumberOfPlayers):\n",
    "        name =\"\"\n",
    "        age = 1\n",
    "        print (\"Player no \",i+1)\n",
    "        print (\"Enter the Name : \" ,end=\"  \")\n",
    "        name=str(input())\n",
    "        print(\"Enter the Age : \",end=\"  \")\n",
    "        age=int (input ())\n",
    "        game.addPlayers(Player(name,age))\n",
    "else:\n",
    "    game.addPlayers(Player(\"Wasay\",18))\n",
    "    game.addPlayers(Player(\"Ali\",20))\n",
    "    game.addPlayers(Player(\"Zain\",15))\n",
    "game.GiveCards()\n",
    "game.DisplayPlayers()\n",
    "game.PlayGame()\n",
    "\n",
    "\n",
    "\n",
    "\n",
    "\n",
    "\n",
    "\n",
    "        "
   ]
  },
  {
   "cell_type": "markdown",
   "id": "424eeded",
   "metadata": {},
   "source": [
    "## "
   ]
  },
  {
   "cell_type": "code",
   "execution_count": null,
   "id": "f75c8785",
   "metadata": {},
   "outputs": [],
   "source": []
  },
  {
   "cell_type": "code",
   "execution_count": null,
   "id": "5fa2097d",
   "metadata": {},
   "outputs": [],
   "source": []
  },
  {
   "cell_type": "code",
   "execution_count": null,
   "id": "46d0fd8f",
   "metadata": {},
   "outputs": [],
   "source": []
  }
 ],
 "metadata": {
  "kernelspec": {
   "display_name": "Python 3",
   "language": "python",
   "name": "python3"
  }
 },
 "nbformat": 4,
 "nbformat_minor": 5
}
